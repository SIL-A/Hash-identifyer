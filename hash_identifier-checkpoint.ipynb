{
 "cells": [
  {
   "cell_type": "markdown",
   "id": "2d3d0af6",
   "metadata": {},
   "source": [
    "# Hash Identifier\n"
   ]
  },
  {
   "cell_type": "code",
   "execution_count": 61,
   "id": "0919bf27",
   "metadata": {},
   "outputs": [
    {
     "data": {
      "text/html": [
       "<div>\n",
       "<style scoped>\n",
       "    .dataframe tbody tr th:only-of-type {\n",
       "        vertical-align: middle;\n",
       "    }\n",
       "\n",
       "    .dataframe tbody tr th {\n",
       "        vertical-align: top;\n",
       "    }\n",
       "\n",
       "    .dataframe thead th {\n",
       "        text-align: right;\n",
       "    }\n",
       "</style>\n",
       "<table border=\"1\" class=\"dataframe\">\n",
       "  <thead>\n",
       "    <tr style=\"text-align: right;\">\n",
       "      <th></th>\n",
       "      <th>String</th>\n",
       "      <th>Hash_method</th>\n",
       "      <th>hash</th>\n",
       "    </tr>\n",
       "  </thead>\n",
       "  <tbody>\n",
       "    <tr>\n",
       "      <th>count</th>\n",
       "      <td>9997</td>\n",
       "      <td>9998</td>\n",
       "      <td>9998</td>\n",
       "    </tr>\n",
       "    <tr>\n",
       "      <th>unique</th>\n",
       "      <td>9989</td>\n",
       "      <td>3</td>\n",
       "      <td>9998</td>\n",
       "    </tr>\n",
       "    <tr>\n",
       "      <th>top</th>\n",
       "      <td>123</td>\n",
       "      <td>sha512</td>\n",
       "      <td>9f217e98ce1394463b0c4641e08f610edddfe29e647d34...</td>\n",
       "    </tr>\n",
       "    <tr>\n",
       "      <th>freq</th>\n",
       "      <td>3</td>\n",
       "      <td>3375</td>\n",
       "      <td>1</td>\n",
       "    </tr>\n",
       "  </tbody>\n",
       "</table>\n",
       "</div>"
      ],
      "text/plain": [
       "       String Hash_method                                               hash\n",
       "count    9997        9998                                               9998\n",
       "unique   9989           3                                               9998\n",
       "top       123      sha512  9f217e98ce1394463b0c4641e08f610edddfe29e647d34...\n",
       "freq        3        3375                                                  1"
      ]
     },
     "execution_count": 61,
     "metadata": {},
     "output_type": "execute_result"
    }
   ],
   "source": [
    "import pandas as pd\n",
    "import numpy as nnp\n",
    "df=pd.read_csv('dataset.csv')\n",
    "df.head()\n",
    "df.describe()"
   ]
  },
  {
   "cell_type": "code",
   "execution_count": 62,
   "id": "1a7e766b",
   "metadata": {},
   "outputs": [
    {
     "data": {
      "text/html": [
       "<div>\n",
       "<style scoped>\n",
       "    .dataframe tbody tr th:only-of-type {\n",
       "        vertical-align: middle;\n",
       "    }\n",
       "\n",
       "    .dataframe tbody tr th {\n",
       "        vertical-align: top;\n",
       "    }\n",
       "\n",
       "    .dataframe thead tr th {\n",
       "        text-align: left;\n",
       "    }\n",
       "\n",
       "    .dataframe thead tr:last-of-type th {\n",
       "        text-align: right;\n",
       "    }\n",
       "</style>\n",
       "<table border=\"1\" class=\"dataframe\">\n",
       "  <thead>\n",
       "    <tr>\n",
       "      <th></th>\n",
       "      <th colspan=\"4\" halign=\"left\">String</th>\n",
       "      <th colspan=\"4\" halign=\"left\">hash</th>\n",
       "    </tr>\n",
       "    <tr>\n",
       "      <th></th>\n",
       "      <th>count</th>\n",
       "      <th>unique</th>\n",
       "      <th>top</th>\n",
       "      <th>freq</th>\n",
       "      <th>count</th>\n",
       "      <th>unique</th>\n",
       "      <th>top</th>\n",
       "      <th>freq</th>\n",
       "    </tr>\n",
       "    <tr>\n",
       "      <th>Hash_method</th>\n",
       "      <th></th>\n",
       "      <th></th>\n",
       "      <th></th>\n",
       "      <th></th>\n",
       "      <th></th>\n",
       "      <th></th>\n",
       "      <th></th>\n",
       "      <th></th>\n",
       "    </tr>\n",
       "  </thead>\n",
       "  <tbody>\n",
       "    <tr>\n",
       "      <th>md5</th>\n",
       "      <td>3318</td>\n",
       "      <td>3316</td>\n",
       "      <td>123</td>\n",
       "      <td>3</td>\n",
       "      <td>3319</td>\n",
       "      <td>3319</td>\n",
       "      <td>018c55f86406c78a3c8ea0623bbe62a3</td>\n",
       "      <td>1</td>\n",
       "    </tr>\n",
       "    <tr>\n",
       "      <th>sha256</th>\n",
       "      <td>3304</td>\n",
       "      <td>3303</td>\n",
       "      <td>123654</td>\n",
       "      <td>2</td>\n",
       "      <td>3304</td>\n",
       "      <td>3304</td>\n",
       "      <td>49aa443d892c945d1f87d249fee3c4de618812e8cc2c46...</td>\n",
       "      <td>1</td>\n",
       "    </tr>\n",
       "    <tr>\n",
       "      <th>sha512</th>\n",
       "      <td>3375</td>\n",
       "      <td>3375</td>\n",
       "      <td>Marcus</td>\n",
       "      <td>1</td>\n",
       "      <td>3375</td>\n",
       "      <td>3375</td>\n",
       "      <td>8093f280defd28639c65b2f1eedbfe40d37e638b6ba209...</td>\n",
       "      <td>1</td>\n",
       "    </tr>\n",
       "  </tbody>\n",
       "</table>\n",
       "</div>"
      ],
      "text/plain": [
       "            String                      hash         \\\n",
       "             count unique     top freq count unique   \n",
       "Hash_method                                           \n",
       "md5           3318   3316     123    3  3319   3319   \n",
       "sha256        3304   3303  123654    2  3304   3304   \n",
       "sha512        3375   3375  Marcus    1  3375   3375   \n",
       "\n",
       "                                                                     \n",
       "                                                           top freq  \n",
       "Hash_method                                                          \n",
       "md5                           018c55f86406c78a3c8ea0623bbe62a3    1  \n",
       "sha256       49aa443d892c945d1f87d249fee3c4de618812e8cc2c46...    1  \n",
       "sha512       8093f280defd28639c65b2f1eedbfe40d37e638b6ba209...    1  "
      ]
     },
     "execution_count": 62,
     "metadata": {},
     "output_type": "execute_result"
    }
   ],
   "source": [
    "df.groupby('Hash_method').describe()"
   ]
  },
  {
   "cell_type": "code",
   "execution_count": 64,
   "id": "953828da",
   "metadata": {},
   "outputs": [
    {
     "data": {
      "text/html": [
       "<div>\n",
       "<style scoped>\n",
       "    .dataframe tbody tr th:only-of-type {\n",
       "        vertical-align: middle;\n",
       "    }\n",
       "\n",
       "    .dataframe tbody tr th {\n",
       "        vertical-align: top;\n",
       "    }\n",
       "\n",
       "    .dataframe thead th {\n",
       "        text-align: right;\n",
       "    }\n",
       "</style>\n",
       "<table border=\"1\" class=\"dataframe\">\n",
       "  <thead>\n",
       "    <tr style=\"text-align: right;\">\n",
       "      <th></th>\n",
       "      <th>String</th>\n",
       "      <th>Hash_method</th>\n",
       "      <th>hash</th>\n",
       "      <th>output</th>\n",
       "    </tr>\n",
       "  </thead>\n",
       "  <tbody>\n",
       "    <tr>\n",
       "      <th>0</th>\n",
       "      <td>6</td>\n",
       "      <td>sha256</td>\n",
       "      <td>e7f6c011776e8db7cd330b54174fd76f7d0216b612387a...</td>\n",
       "      <td>0</td>\n",
       "    </tr>\n",
       "    <tr>\n",
       "      <th>1</th>\n",
       "      <td>12</td>\n",
       "      <td>sha256</td>\n",
       "      <td>6b51d431df5d7f141cbececcf79edf3dd861c3b4069f0b...</td>\n",
       "      <td>0</td>\n",
       "    </tr>\n",
       "    <tr>\n",
       "      <th>2</th>\n",
       "      <td>pas</td>\n",
       "      <td>sha512</td>\n",
       "      <td>589a99a8f2aa04518eca6f703f01860762f35c298138ef...</td>\n",
       "      <td>0</td>\n",
       "    </tr>\n",
       "    <tr>\n",
       "      <th>3</th>\n",
       "      <td>you</td>\n",
       "      <td>sha512</td>\n",
       "      <td>263adce0f04ee1eb3e75528ed5251724906bdd44c4265a...</td>\n",
       "      <td>0</td>\n",
       "    </tr>\n",
       "    <tr>\n",
       "      <th>4</th>\n",
       "      <td>12345</td>\n",
       "      <td>sha512</td>\n",
       "      <td>3627909a29c31381a071ec27f7c9ca97726182aed29a7d...</td>\n",
       "      <td>0</td>\n",
       "    </tr>\n",
       "    <tr>\n",
       "      <th>5</th>\n",
       "      <td>NaN</td>\n",
       "      <td>md5</td>\n",
       "      <td>d41d8cd98f00b204e9800998ecf8427e</td>\n",
       "      <td>1</td>\n",
       "    </tr>\n",
       "    <tr>\n",
       "      <th>6</th>\n",
       "      <td>abc123</td>\n",
       "      <td>md5</td>\n",
       "      <td>e99a18c428cb38d5f260853678922e03</td>\n",
       "      <td>1</td>\n",
       "    </tr>\n",
       "    <tr>\n",
       "      <th>7</th>\n",
       "      <td>babygirl</td>\n",
       "      <td>sha512</td>\n",
       "      <td>da34e82ebc71ccc880c639cfbdaf94b3a01c2b98c4e54d...</td>\n",
       "      <td>0</td>\n",
       "    </tr>\n",
       "    <tr>\n",
       "      <th>8</th>\n",
       "      <td>jessica</td>\n",
       "      <td>md5</td>\n",
       "      <td>aae039d6aa239cfc121357a825210fa3</td>\n",
       "      <td>1</td>\n",
       "    </tr>\n",
       "    <tr>\n",
       "      <th>9</th>\n",
       "      <td>ashley</td>\n",
       "      <td>md5</td>\n",
       "      <td>adff44c5102fca279fce7559abf66fee</td>\n",
       "      <td>1</td>\n",
       "    </tr>\n",
       "    <tr>\n",
       "      <th>10</th>\n",
       "      <td>iloveu</td>\n",
       "      <td>md5</td>\n",
       "      <td>edbd0effac3fcc98e725920a512881e0</td>\n",
       "      <td>1</td>\n",
       "    </tr>\n",
       "    <tr>\n",
       "      <th>11</th>\n",
       "      <td>tigger</td>\n",
       "      <td>md5</td>\n",
       "      <td>f78f2477e949bee2d12a2c540fb6084f</td>\n",
       "      <td>1</td>\n",
       "    </tr>\n",
       "    <tr>\n",
       "      <th>12</th>\n",
       "      <td>password1</td>\n",
       "      <td>md5</td>\n",
       "      <td>7c6a180b36896a0a8c02787eeafb0e4c</td>\n",
       "      <td>1</td>\n",
       "    </tr>\n",
       "    <tr>\n",
       "      <th>13</th>\n",
       "      <td>friends</td>\n",
       "      <td>md5</td>\n",
       "      <td>28f20a02bf8a021fab4fcec48afb584e</td>\n",
       "      <td>1</td>\n",
       "    </tr>\n",
       "    <tr>\n",
       "      <th>14</th>\n",
       "      <td>angel</td>\n",
       "      <td>sha512</td>\n",
       "      <td>9ca0536ceb245f5c7a3ce3a09f6646c60ae3f301e3fc65...</td>\n",
       "      <td>0</td>\n",
       "    </tr>\n",
       "  </tbody>\n",
       "</table>\n",
       "</div>"
      ],
      "text/plain": [
       "       String Hash_method                                               hash  \\\n",
       "0           6      sha256  e7f6c011776e8db7cd330b54174fd76f7d0216b612387a...   \n",
       "1          12      sha256  6b51d431df5d7f141cbececcf79edf3dd861c3b4069f0b...   \n",
       "2         pas      sha512  589a99a8f2aa04518eca6f703f01860762f35c298138ef...   \n",
       "3         you      sha512  263adce0f04ee1eb3e75528ed5251724906bdd44c4265a...   \n",
       "4       12345      sha512  3627909a29c31381a071ec27f7c9ca97726182aed29a7d...   \n",
       "5         NaN         md5                   d41d8cd98f00b204e9800998ecf8427e   \n",
       "6      abc123         md5                   e99a18c428cb38d5f260853678922e03   \n",
       "7    babygirl      sha512  da34e82ebc71ccc880c639cfbdaf94b3a01c2b98c4e54d...   \n",
       "8     jessica         md5                   aae039d6aa239cfc121357a825210fa3   \n",
       "9      ashley         md5                   adff44c5102fca279fce7559abf66fee   \n",
       "10     iloveu         md5                   edbd0effac3fcc98e725920a512881e0   \n",
       "11     tigger         md5                   f78f2477e949bee2d12a2c540fb6084f   \n",
       "12  password1         md5                   7c6a180b36896a0a8c02787eeafb0e4c   \n",
       "13    friends         md5                   28f20a02bf8a021fab4fcec48afb584e   \n",
       "14      angel      sha512  9ca0536ceb245f5c7a3ce3a09f6646c60ae3f301e3fc65...   \n",
       "\n",
       "    output  \n",
       "0        0  \n",
       "1        0  \n",
       "2        0  \n",
       "3        0  \n",
       "4        0  \n",
       "5        1  \n",
       "6        1  \n",
       "7        0  \n",
       "8        1  \n",
       "9        1  \n",
       "10       1  \n",
       "11       1  \n",
       "12       1  \n",
       "13       1  \n",
       "14       0  "
      ]
     },
     "execution_count": 64,
     "metadata": {},
     "output_type": "execute_result"
    }
   ],
   "source": [
    "df['output']=df['Hash_method'].apply(lambda x: 1 if x=='md5' else 0)\n",
    "df.head(15)"
   ]
  },
  {
   "cell_type": "code",
   "execution_count": 65,
   "id": "48fbacc6",
   "metadata": {},
   "outputs": [
    {
     "data": {
      "text/html": [
       "<div>\n",
       "<style scoped>\n",
       "    .dataframe tbody tr th:only-of-type {\n",
       "        vertical-align: middle;\n",
       "    }\n",
       "\n",
       "    .dataframe tbody tr th {\n",
       "        vertical-align: top;\n",
       "    }\n",
       "\n",
       "    .dataframe thead th {\n",
       "        text-align: right;\n",
       "    }\n",
       "</style>\n",
       "<table border=\"1\" class=\"dataframe\">\n",
       "  <thead>\n",
       "    <tr style=\"text-align: right;\">\n",
       "      <th></th>\n",
       "      <th>hash</th>\n",
       "      <th>output</th>\n",
       "    </tr>\n",
       "  </thead>\n",
       "  <tbody>\n",
       "    <tr>\n",
       "      <th>0</th>\n",
       "      <td>e7f6c011776e8db7cd330b54174fd76f7d0216b612387a...</td>\n",
       "      <td>0</td>\n",
       "    </tr>\n",
       "    <tr>\n",
       "      <th>1</th>\n",
       "      <td>6b51d431df5d7f141cbececcf79edf3dd861c3b4069f0b...</td>\n",
       "      <td>0</td>\n",
       "    </tr>\n",
       "    <tr>\n",
       "      <th>2</th>\n",
       "      <td>589a99a8f2aa04518eca6f703f01860762f35c298138ef...</td>\n",
       "      <td>0</td>\n",
       "    </tr>\n",
       "    <tr>\n",
       "      <th>3</th>\n",
       "      <td>263adce0f04ee1eb3e75528ed5251724906bdd44c4265a...</td>\n",
       "      <td>0</td>\n",
       "    </tr>\n",
       "    <tr>\n",
       "      <th>4</th>\n",
       "      <td>3627909a29c31381a071ec27f7c9ca97726182aed29a7d...</td>\n",
       "      <td>0</td>\n",
       "    </tr>\n",
       "    <tr>\n",
       "      <th>...</th>\n",
       "      <td>...</td>\n",
       "      <td>...</td>\n",
       "    </tr>\n",
       "    <tr>\n",
       "      <th>9993</th>\n",
       "      <td>51842c1640a47ecb69a5e4d640a4142c1eebd56e670f96...</td>\n",
       "      <td>0</td>\n",
       "    </tr>\n",
       "    <tr>\n",
       "      <th>9994</th>\n",
       "      <td>68c64e9054252fe80317fdb187d50f41</td>\n",
       "      <td>1</td>\n",
       "    </tr>\n",
       "    <tr>\n",
       "      <th>9995</th>\n",
       "      <td>184fc6aff2cd357ca5f1e1a7dacd9c5a5b0901ecdc12da...</td>\n",
       "      <td>0</td>\n",
       "    </tr>\n",
       "    <tr>\n",
       "      <th>9996</th>\n",
       "      <td>f1dd5a9c74259ba30a03a4f532caef305ce569e3628c53...</td>\n",
       "      <td>0</td>\n",
       "    </tr>\n",
       "    <tr>\n",
       "      <th>9997</th>\n",
       "      <td>8876afd50e72fec09b02854e6116583c1adce0a30228b2...</td>\n",
       "      <td>0</td>\n",
       "    </tr>\n",
       "  </tbody>\n",
       "</table>\n",
       "<p>9998 rows × 2 columns</p>\n",
       "</div>"
      ],
      "text/plain": [
       "                                                   hash  output\n",
       "0     e7f6c011776e8db7cd330b54174fd76f7d0216b612387a...       0\n",
       "1     6b51d431df5d7f141cbececcf79edf3dd861c3b4069f0b...       0\n",
       "2     589a99a8f2aa04518eca6f703f01860762f35c298138ef...       0\n",
       "3     263adce0f04ee1eb3e75528ed5251724906bdd44c4265a...       0\n",
       "4     3627909a29c31381a071ec27f7c9ca97726182aed29a7d...       0\n",
       "...                                                 ...     ...\n",
       "9993  51842c1640a47ecb69a5e4d640a4142c1eebd56e670f96...       0\n",
       "9994                   68c64e9054252fe80317fdb187d50f41       1\n",
       "9995  184fc6aff2cd357ca5f1e1a7dacd9c5a5b0901ecdc12da...       0\n",
       "9996  f1dd5a9c74259ba30a03a4f532caef305ce569e3628c53...       0\n",
       "9997  8876afd50e72fec09b02854e6116583c1adce0a30228b2...       0\n",
       "\n",
       "[9998 rows x 2 columns]"
      ]
     },
     "execution_count": 65,
     "metadata": {},
     "output_type": "execute_result"
    }
   ],
   "source": [
    "df.drop(df[['String','Hash_method']],axis=1)"
   ]
  },
  {
   "cell_type": "code",
   "execution_count": 67,
   "id": "f28c2980",
   "metadata": {},
   "outputs": [],
   "source": [
    "from sklearn.model_selection import train_test_split\n",
    "xtrain,xtest,ytrain,ytest=train_test_split(df.hash,df.output,train_size=0.8)"
   ]
  },
  {
   "cell_type": "code",
   "execution_count": 70,
   "id": "988d1030",
   "metadata": {},
   "outputs": [
    {
     "data": {
      "text/plain": [
       "array([[0, 0, 0, ..., 0, 0, 0],\n",
       "       [0, 0, 0, ..., 0, 0, 0],\n",
       "       [0, 0, 0, ..., 0, 0, 0]], dtype=int64)"
      ]
     },
     "execution_count": 70,
     "metadata": {},
     "output_type": "execute_result"
    }
   ],
   "source": [
    "from sklearn.feature_extraction.text import CountVectorizer\n",
    "v=CountVectorizer()\n",
    "xtrain_count=v.fit_transform(xtrain.values)\n",
    "xtrain_count.toarray()[:3]"
   ]
  },
  {
   "cell_type": "code",
   "execution_count": 71,
   "id": "9f0da97f",
   "metadata": {},
   "outputs": [
    {
     "data": {
      "text/plain": [
       "MultinomialNB()"
      ]
     },
     "execution_count": 71,
     "metadata": {},
     "output_type": "execute_result"
    }
   ],
   "source": [
    "from sklearn.naive_bayes import MultinomialNB\n",
    "model=MultinomialNB()\n",
    "model.fit(xtrain_count,ytrain)"
   ]
  },
  {
   "cell_type": "code",
   "execution_count": 81,
   "id": "63f15540",
   "metadata": {},
   "outputs": [
    {
     "data": {
      "text/plain": [
       "array([0, 0], dtype=int64)"
      ]
     },
     "execution_count": 81,
     "metadata": {},
     "output_type": "execute_result"
    }
   ],
   "source": [
    "predictors=['bbcfa5a96267c0fd71d9c86585c4f354',\n",
    "      '4bc0304b61ed1eefca0bfd554d1669915d1b0d7a935ca309162960dd8979a7a121e1333d9c81a956403990c3779adb11710060c31baa18bac9166f6b5eb058ac'\n",
    "           ]\n",
    "predictors_count=v.transform(predictors)\n",
    "model.predict(predictors_count)"
   ]
  },
  {
   "cell_type": "code",
   "execution_count": 76,
   "id": "3d082ec0",
   "metadata": {},
   "outputs": [
    {
     "data": {
      "text/plain": [
       "0.6735"
      ]
     },
     "execution_count": 76,
     "metadata": {},
     "output_type": "execute_result"
    }
   ],
   "source": [
    "xtest_count=v.transform(xtest.values)\n",
    "model.score(xtest_count,ytest)"
   ]
  },
  {
   "cell_type": "code",
   "execution_count": 77,
   "id": "ba65e544",
   "metadata": {},
   "outputs": [],
   "source": [
    "from sklearn.pipeline import Pipeline\n",
    "cld=Pipeline([('Vectorizer',CountVectorizer()),('nb',MultinomialNB())])"
   ]
  },
  {
   "cell_type": "code",
   "execution_count": 78,
   "id": "7b5071c7",
   "metadata": {},
   "outputs": [
    {
     "data": {
      "text/plain": [
       "Pipeline(steps=[('Vectorizer', CountVectorizer()), ('nb', MultinomialNB())])"
      ]
     },
     "execution_count": 78,
     "metadata": {},
     "output_type": "execute_result"
    }
   ],
   "source": [
    "cld.fit(xtrain,ytrain)"
   ]
  },
  {
   "cell_type": "code",
   "execution_count": 79,
   "id": "82a60b53",
   "metadata": {},
   "outputs": [
    {
     "data": {
      "text/plain": [
       "0.6735"
      ]
     },
     "execution_count": 79,
     "metadata": {},
     "output_type": "execute_result"
    }
   ],
   "source": [
    "cld.score(xtest,ytest)"
   ]
  },
  {
   "cell_type": "code",
   "execution_count": 80,
   "id": "52259f15",
   "metadata": {},
   "outputs": [
    {
     "data": {
      "text/plain": [
       "0.0"
      ]
     },
     "execution_count": 80,
     "metadata": {},
     "output_type": "execute_result"
    }
   ],
   "source": [
    "cld.score([\"667ff118ef6d196c96313aeaee7da519\"],[1])"
   ]
  },
  {
   "cell_type": "code",
   "execution_count": null,
   "id": "efd90c99",
   "metadata": {},
   "outputs": [],
   "source": []
  }
 ],
 "metadata": {
  "kernelspec": {
   "display_name": "Python 3",
   "language": "python",
   "name": "python3"
  },
  "language_info": {
   "codemirror_mode": {
    "name": "ipython",
    "version": 3
   },
   "file_extension": ".py",
   "mimetype": "text/x-python",
   "name": "python",
   "nbconvert_exporter": "python",
   "pygments_lexer": "ipython3",
   "version": "3.8.8"
  }
 },
 "nbformat": 4,
 "nbformat_minor": 5
}
